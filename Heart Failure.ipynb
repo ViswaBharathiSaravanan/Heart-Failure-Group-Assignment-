{
 "cells": [
  {
   "cell_type": "markdown",
   "id": "d4263068",
   "metadata": {},
   "source": [
    "<H1>HEART FAILURE PREDICTION</H1>"
   ]
  },
  {
   "cell_type": "code",
   "execution_count": 76,
   "id": "bd9cd699",
   "metadata": {},
   "outputs": [],
   "source": [
    "import pandas as pd\n",
    "from scipy import stats\n",
    "import matplotlib.pyplot as plt\n",
    "import seaborn as sns\n",
    "import statsmodels.api as sm\n",
    "from sklearn.model_selection import train_test_split\n",
    "from sklearn.linear_model import LogisticRegression\n",
    "from sklearn.metrics import confusion_matrix\n",
    "from scipy import stats"
   ]
  },
  {
   "cell_type": "code",
   "execution_count": 78,
   "id": "39bbe9c2",
   "metadata": {},
   "outputs": [
    {
     "data": {
      "text/html": [
       "<div>\n",
       "<style scoped>\n",
       "    .dataframe tbody tr th:only-of-type {\n",
       "        vertical-align: middle;\n",
       "    }\n",
       "\n",
       "    .dataframe tbody tr th {\n",
       "        vertical-align: top;\n",
       "    }\n",
       "\n",
       "    .dataframe thead th {\n",
       "        text-align: right;\n",
       "    }\n",
       "</style>\n",
       "<table border=\"1\" class=\"dataframe\">\n",
       "  <thead>\n",
       "    <tr style=\"text-align: right;\">\n",
       "      <th></th>\n",
       "      <th>age</th>\n",
       "      <th>anaemia</th>\n",
       "      <th>creatinine_phosphokinase</th>\n",
       "      <th>diabetes</th>\n",
       "      <th>ejection_fraction</th>\n",
       "      <th>high_blood_pressure</th>\n",
       "      <th>platelets</th>\n",
       "      <th>serum_creatinine</th>\n",
       "      <th>serum_sodium</th>\n",
       "      <th>sex</th>\n",
       "      <th>smoking</th>\n",
       "      <th>time</th>\n",
       "      <th>DEATH_EVENT</th>\n",
       "    </tr>\n",
       "  </thead>\n",
       "  <tbody>\n",
       "    <tr>\n",
       "      <th>0</th>\n",
       "      <td>75.0</td>\n",
       "      <td>0</td>\n",
       "      <td>582</td>\n",
       "      <td>0</td>\n",
       "      <td>20</td>\n",
       "      <td>1</td>\n",
       "      <td>265000.00</td>\n",
       "      <td>1.9</td>\n",
       "      <td>130</td>\n",
       "      <td>1</td>\n",
       "      <td>0</td>\n",
       "      <td>4</td>\n",
       "      <td>1</td>\n",
       "    </tr>\n",
       "    <tr>\n",
       "      <th>1</th>\n",
       "      <td>55.0</td>\n",
       "      <td>0</td>\n",
       "      <td>7861</td>\n",
       "      <td>0</td>\n",
       "      <td>38</td>\n",
       "      <td>0</td>\n",
       "      <td>263358.03</td>\n",
       "      <td>1.1</td>\n",
       "      <td>136</td>\n",
       "      <td>1</td>\n",
       "      <td>0</td>\n",
       "      <td>6</td>\n",
       "      <td>1</td>\n",
       "    </tr>\n",
       "    <tr>\n",
       "      <th>2</th>\n",
       "      <td>65.0</td>\n",
       "      <td>0</td>\n",
       "      <td>146</td>\n",
       "      <td>0</td>\n",
       "      <td>20</td>\n",
       "      <td>0</td>\n",
       "      <td>162000.00</td>\n",
       "      <td>1.3</td>\n",
       "      <td>129</td>\n",
       "      <td>1</td>\n",
       "      <td>1</td>\n",
       "      <td>7</td>\n",
       "      <td>1</td>\n",
       "    </tr>\n",
       "    <tr>\n",
       "      <th>3</th>\n",
       "      <td>50.0</td>\n",
       "      <td>1</td>\n",
       "      <td>111</td>\n",
       "      <td>0</td>\n",
       "      <td>20</td>\n",
       "      <td>0</td>\n",
       "      <td>210000.00</td>\n",
       "      <td>1.9</td>\n",
       "      <td>137</td>\n",
       "      <td>1</td>\n",
       "      <td>0</td>\n",
       "      <td>7</td>\n",
       "      <td>1</td>\n",
       "    </tr>\n",
       "    <tr>\n",
       "      <th>4</th>\n",
       "      <td>65.0</td>\n",
       "      <td>1</td>\n",
       "      <td>160</td>\n",
       "      <td>1</td>\n",
       "      <td>20</td>\n",
       "      <td>0</td>\n",
       "      <td>327000.00</td>\n",
       "      <td>2.7</td>\n",
       "      <td>116</td>\n",
       "      <td>0</td>\n",
       "      <td>0</td>\n",
       "      <td>8</td>\n",
       "      <td>1</td>\n",
       "    </tr>\n",
       "  </tbody>\n",
       "</table>\n",
       "</div>"
      ],
      "text/plain": [
       "    age  anaemia  creatinine_phosphokinase  diabetes  ejection_fraction  \\\n",
       "0  75.0        0                       582         0                 20   \n",
       "1  55.0        0                      7861         0                 38   \n",
       "2  65.0        0                       146         0                 20   \n",
       "3  50.0        1                       111         0                 20   \n",
       "4  65.0        1                       160         1                 20   \n",
       "\n",
       "   high_blood_pressure  platelets  serum_creatinine  serum_sodium  sex  \\\n",
       "0                    1  265000.00               1.9           130    1   \n",
       "1                    0  263358.03               1.1           136    1   \n",
       "2                    0  162000.00               1.3           129    1   \n",
       "3                    0  210000.00               1.9           137    1   \n",
       "4                    0  327000.00               2.7           116    0   \n",
       "\n",
       "   smoking  time  DEATH_EVENT  \n",
       "0        0     4            1  \n",
       "1        0     6            1  \n",
       "2        1     7            1  \n",
       "3        0     7            1  \n",
       "4        0     8            1  "
      ]
     },
     "execution_count": 78,
     "metadata": {},
     "output_type": "execute_result"
    }
   ],
   "source": [
    "a=pd.read_csv(\"E:/VB/heart_failure_clinical_records_dataset.csv\")\n",
    "a.head()"
   ]
  },
  {
   "cell_type": "code",
   "execution_count": 41,
   "id": "3d261849",
   "metadata": {},
   "outputs": [
    {
     "data": {
      "text/plain": [
       "(299, 13)"
      ]
     },
     "execution_count": 41,
     "metadata": {},
     "output_type": "execute_result"
    }
   ],
   "source": [
    "a.shape"
   ]
  },
  {
   "cell_type": "code",
   "execution_count": 42,
   "id": "93f9c47c",
   "metadata": {},
   "outputs": [
    {
     "data": {
      "text/html": [
       "<div>\n",
       "<style scoped>\n",
       "    .dataframe tbody tr th:only-of-type {\n",
       "        vertical-align: middle;\n",
       "    }\n",
       "\n",
       "    .dataframe tbody tr th {\n",
       "        vertical-align: top;\n",
       "    }\n",
       "\n",
       "    .dataframe thead th {\n",
       "        text-align: right;\n",
       "    }\n",
       "</style>\n",
       "<table border=\"1\" class=\"dataframe\">\n",
       "  <thead>\n",
       "    <tr style=\"text-align: right;\">\n",
       "      <th></th>\n",
       "      <th>age</th>\n",
       "      <th>anaemia</th>\n",
       "      <th>creatinine_phosphokinase</th>\n",
       "      <th>diabetes</th>\n",
       "      <th>ejection_fraction</th>\n",
       "      <th>high_blood_pressure</th>\n",
       "      <th>platelets</th>\n",
       "      <th>serum_creatinine</th>\n",
       "      <th>serum_sodium</th>\n",
       "      <th>sex</th>\n",
       "      <th>smoking</th>\n",
       "      <th>time</th>\n",
       "      <th>DEATH_EVENT</th>\n",
       "    </tr>\n",
       "  </thead>\n",
       "  <tbody>\n",
       "    <tr>\n",
       "      <th>count</th>\n",
       "      <td>299.000000</td>\n",
       "      <td>299.000000</td>\n",
       "      <td>299.000000</td>\n",
       "      <td>299.000000</td>\n",
       "      <td>299.000000</td>\n",
       "      <td>299.000000</td>\n",
       "      <td>299.000000</td>\n",
       "      <td>299.00000</td>\n",
       "      <td>299.000000</td>\n",
       "      <td>299.000000</td>\n",
       "      <td>299.00000</td>\n",
       "      <td>299.000000</td>\n",
       "      <td>299.00000</td>\n",
       "    </tr>\n",
       "    <tr>\n",
       "      <th>mean</th>\n",
       "      <td>60.833893</td>\n",
       "      <td>0.431438</td>\n",
       "      <td>581.839465</td>\n",
       "      <td>0.418060</td>\n",
       "      <td>38.083612</td>\n",
       "      <td>0.351171</td>\n",
       "      <td>263358.029264</td>\n",
       "      <td>1.39388</td>\n",
       "      <td>136.625418</td>\n",
       "      <td>0.648829</td>\n",
       "      <td>0.32107</td>\n",
       "      <td>130.260870</td>\n",
       "      <td>0.32107</td>\n",
       "    </tr>\n",
       "    <tr>\n",
       "      <th>std</th>\n",
       "      <td>11.894809</td>\n",
       "      <td>0.496107</td>\n",
       "      <td>970.287881</td>\n",
       "      <td>0.494067</td>\n",
       "      <td>11.834841</td>\n",
       "      <td>0.478136</td>\n",
       "      <td>97804.236869</td>\n",
       "      <td>1.03451</td>\n",
       "      <td>4.412477</td>\n",
       "      <td>0.478136</td>\n",
       "      <td>0.46767</td>\n",
       "      <td>77.614208</td>\n",
       "      <td>0.46767</td>\n",
       "    </tr>\n",
       "    <tr>\n",
       "      <th>min</th>\n",
       "      <td>40.000000</td>\n",
       "      <td>0.000000</td>\n",
       "      <td>23.000000</td>\n",
       "      <td>0.000000</td>\n",
       "      <td>14.000000</td>\n",
       "      <td>0.000000</td>\n",
       "      <td>25100.000000</td>\n",
       "      <td>0.50000</td>\n",
       "      <td>113.000000</td>\n",
       "      <td>0.000000</td>\n",
       "      <td>0.00000</td>\n",
       "      <td>4.000000</td>\n",
       "      <td>0.00000</td>\n",
       "    </tr>\n",
       "    <tr>\n",
       "      <th>25%</th>\n",
       "      <td>51.000000</td>\n",
       "      <td>0.000000</td>\n",
       "      <td>116.500000</td>\n",
       "      <td>0.000000</td>\n",
       "      <td>30.000000</td>\n",
       "      <td>0.000000</td>\n",
       "      <td>212500.000000</td>\n",
       "      <td>0.90000</td>\n",
       "      <td>134.000000</td>\n",
       "      <td>0.000000</td>\n",
       "      <td>0.00000</td>\n",
       "      <td>73.000000</td>\n",
       "      <td>0.00000</td>\n",
       "    </tr>\n",
       "    <tr>\n",
       "      <th>50%</th>\n",
       "      <td>60.000000</td>\n",
       "      <td>0.000000</td>\n",
       "      <td>250.000000</td>\n",
       "      <td>0.000000</td>\n",
       "      <td>38.000000</td>\n",
       "      <td>0.000000</td>\n",
       "      <td>262000.000000</td>\n",
       "      <td>1.10000</td>\n",
       "      <td>137.000000</td>\n",
       "      <td>1.000000</td>\n",
       "      <td>0.00000</td>\n",
       "      <td>115.000000</td>\n",
       "      <td>0.00000</td>\n",
       "    </tr>\n",
       "    <tr>\n",
       "      <th>75%</th>\n",
       "      <td>70.000000</td>\n",
       "      <td>1.000000</td>\n",
       "      <td>582.000000</td>\n",
       "      <td>1.000000</td>\n",
       "      <td>45.000000</td>\n",
       "      <td>1.000000</td>\n",
       "      <td>303500.000000</td>\n",
       "      <td>1.40000</td>\n",
       "      <td>140.000000</td>\n",
       "      <td>1.000000</td>\n",
       "      <td>1.00000</td>\n",
       "      <td>203.000000</td>\n",
       "      <td>1.00000</td>\n",
       "    </tr>\n",
       "    <tr>\n",
       "      <th>max</th>\n",
       "      <td>95.000000</td>\n",
       "      <td>1.000000</td>\n",
       "      <td>7861.000000</td>\n",
       "      <td>1.000000</td>\n",
       "      <td>80.000000</td>\n",
       "      <td>1.000000</td>\n",
       "      <td>850000.000000</td>\n",
       "      <td>9.40000</td>\n",
       "      <td>148.000000</td>\n",
       "      <td>1.000000</td>\n",
       "      <td>1.00000</td>\n",
       "      <td>285.000000</td>\n",
       "      <td>1.00000</td>\n",
       "    </tr>\n",
       "  </tbody>\n",
       "</table>\n",
       "</div>"
      ],
      "text/plain": [
       "              age     anaemia  creatinine_phosphokinase    diabetes  \\\n",
       "count  299.000000  299.000000                299.000000  299.000000   \n",
       "mean    60.833893    0.431438                581.839465    0.418060   \n",
       "std     11.894809    0.496107                970.287881    0.494067   \n",
       "min     40.000000    0.000000                 23.000000    0.000000   \n",
       "25%     51.000000    0.000000                116.500000    0.000000   \n",
       "50%     60.000000    0.000000                250.000000    0.000000   \n",
       "75%     70.000000    1.000000                582.000000    1.000000   \n",
       "max     95.000000    1.000000               7861.000000    1.000000   \n",
       "\n",
       "       ejection_fraction  high_blood_pressure      platelets  \\\n",
       "count         299.000000           299.000000     299.000000   \n",
       "mean           38.083612             0.351171  263358.029264   \n",
       "std            11.834841             0.478136   97804.236869   \n",
       "min            14.000000             0.000000   25100.000000   \n",
       "25%            30.000000             0.000000  212500.000000   \n",
       "50%            38.000000             0.000000  262000.000000   \n",
       "75%            45.000000             1.000000  303500.000000   \n",
       "max            80.000000             1.000000  850000.000000   \n",
       "\n",
       "       serum_creatinine  serum_sodium         sex    smoking        time  \\\n",
       "count         299.00000    299.000000  299.000000  299.00000  299.000000   \n",
       "mean            1.39388    136.625418    0.648829    0.32107  130.260870   \n",
       "std             1.03451      4.412477    0.478136    0.46767   77.614208   \n",
       "min             0.50000    113.000000    0.000000    0.00000    4.000000   \n",
       "25%             0.90000    134.000000    0.000000    0.00000   73.000000   \n",
       "50%             1.10000    137.000000    1.000000    0.00000  115.000000   \n",
       "75%             1.40000    140.000000    1.000000    1.00000  203.000000   \n",
       "max             9.40000    148.000000    1.000000    1.00000  285.000000   \n",
       "\n",
       "       DEATH_EVENT  \n",
       "count    299.00000  \n",
       "mean       0.32107  \n",
       "std        0.46767  \n",
       "min        0.00000  \n",
       "25%        0.00000  \n",
       "50%        0.00000  \n",
       "75%        1.00000  \n",
       "max        1.00000  "
      ]
     },
     "execution_count": 42,
     "metadata": {},
     "output_type": "execute_result"
    }
   ],
   "source": [
    "a.describe()"
   ]
  },
  {
   "cell_type": "code",
   "execution_count": 43,
   "id": "5c7857fc",
   "metadata": {},
   "outputs": [
    {
     "name": "stdout",
     "output_type": "stream",
     "text": [
      "<class 'pandas.core.frame.DataFrame'>\n",
      "RangeIndex: 299 entries, 0 to 298\n",
      "Data columns (total 13 columns):\n",
      " #   Column                    Non-Null Count  Dtype  \n",
      "---  ------                    --------------  -----  \n",
      " 0   age                       299 non-null    float64\n",
      " 1   anaemia                   299 non-null    int64  \n",
      " 2   creatinine_phosphokinase  299 non-null    int64  \n",
      " 3   diabetes                  299 non-null    int64  \n",
      " 4   ejection_fraction         299 non-null    int64  \n",
      " 5   high_blood_pressure       299 non-null    int64  \n",
      " 6   platelets                 299 non-null    float64\n",
      " 7   serum_creatinine          299 non-null    float64\n",
      " 8   serum_sodium              299 non-null    int64  \n",
      " 9   sex                       299 non-null    int64  \n",
      " 10  smoking                   299 non-null    int64  \n",
      " 11  time                      299 non-null    int64  \n",
      " 12  DEATH_EVENT               299 non-null    int64  \n",
      "dtypes: float64(3), int64(10)\n",
      "memory usage: 30.5 KB\n"
     ]
    }
   ],
   "source": [
    "a.info()"
   ]
  },
  {
   "cell_type": "markdown",
   "id": "833c0e14",
   "metadata": {},
   "source": [
    "<H1>To Check Null</H1>"
   ]
  },
  {
   "cell_type": "code",
   "execution_count": 44,
   "id": "9886cd4e",
   "metadata": {},
   "outputs": [
    {
     "data": {
      "text/html": [
       "<div>\n",
       "<style scoped>\n",
       "    .dataframe tbody tr th:only-of-type {\n",
       "        vertical-align: middle;\n",
       "    }\n",
       "\n",
       "    .dataframe tbody tr th {\n",
       "        vertical-align: top;\n",
       "    }\n",
       "\n",
       "    .dataframe thead th {\n",
       "        text-align: right;\n",
       "    }\n",
       "</style>\n",
       "<table border=\"1\" class=\"dataframe\">\n",
       "  <thead>\n",
       "    <tr style=\"text-align: right;\">\n",
       "      <th></th>\n",
       "      <th>age</th>\n",
       "      <th>anaemia</th>\n",
       "      <th>creatinine_phosphokinase</th>\n",
       "      <th>diabetes</th>\n",
       "      <th>ejection_fraction</th>\n",
       "      <th>high_blood_pressure</th>\n",
       "      <th>platelets</th>\n",
       "      <th>serum_creatinine</th>\n",
       "      <th>serum_sodium</th>\n",
       "      <th>sex</th>\n",
       "      <th>smoking</th>\n",
       "      <th>time</th>\n",
       "      <th>DEATH_EVENT</th>\n",
       "    </tr>\n",
       "  </thead>\n",
       "  <tbody>\n",
       "    <tr>\n",
       "      <th>0</th>\n",
       "      <td>False</td>\n",
       "      <td>False</td>\n",
       "      <td>False</td>\n",
       "      <td>False</td>\n",
       "      <td>False</td>\n",
       "      <td>False</td>\n",
       "      <td>False</td>\n",
       "      <td>False</td>\n",
       "      <td>False</td>\n",
       "      <td>False</td>\n",
       "      <td>False</td>\n",
       "      <td>False</td>\n",
       "      <td>False</td>\n",
       "    </tr>\n",
       "    <tr>\n",
       "      <th>1</th>\n",
       "      <td>False</td>\n",
       "      <td>False</td>\n",
       "      <td>False</td>\n",
       "      <td>False</td>\n",
       "      <td>False</td>\n",
       "      <td>False</td>\n",
       "      <td>False</td>\n",
       "      <td>False</td>\n",
       "      <td>False</td>\n",
       "      <td>False</td>\n",
       "      <td>False</td>\n",
       "      <td>False</td>\n",
       "      <td>False</td>\n",
       "    </tr>\n",
       "    <tr>\n",
       "      <th>2</th>\n",
       "      <td>False</td>\n",
       "      <td>False</td>\n",
       "      <td>False</td>\n",
       "      <td>False</td>\n",
       "      <td>False</td>\n",
       "      <td>False</td>\n",
       "      <td>False</td>\n",
       "      <td>False</td>\n",
       "      <td>False</td>\n",
       "      <td>False</td>\n",
       "      <td>False</td>\n",
       "      <td>False</td>\n",
       "      <td>False</td>\n",
       "    </tr>\n",
       "    <tr>\n",
       "      <th>3</th>\n",
       "      <td>False</td>\n",
       "      <td>False</td>\n",
       "      <td>False</td>\n",
       "      <td>False</td>\n",
       "      <td>False</td>\n",
       "      <td>False</td>\n",
       "      <td>False</td>\n",
       "      <td>False</td>\n",
       "      <td>False</td>\n",
       "      <td>False</td>\n",
       "      <td>False</td>\n",
       "      <td>False</td>\n",
       "      <td>False</td>\n",
       "    </tr>\n",
       "    <tr>\n",
       "      <th>4</th>\n",
       "      <td>False</td>\n",
       "      <td>False</td>\n",
       "      <td>False</td>\n",
       "      <td>False</td>\n",
       "      <td>False</td>\n",
       "      <td>False</td>\n",
       "      <td>False</td>\n",
       "      <td>False</td>\n",
       "      <td>False</td>\n",
       "      <td>False</td>\n",
       "      <td>False</td>\n",
       "      <td>False</td>\n",
       "      <td>False</td>\n",
       "    </tr>\n",
       "    <tr>\n",
       "      <th>...</th>\n",
       "      <td>...</td>\n",
       "      <td>...</td>\n",
       "      <td>...</td>\n",
       "      <td>...</td>\n",
       "      <td>...</td>\n",
       "      <td>...</td>\n",
       "      <td>...</td>\n",
       "      <td>...</td>\n",
       "      <td>...</td>\n",
       "      <td>...</td>\n",
       "      <td>...</td>\n",
       "      <td>...</td>\n",
       "      <td>...</td>\n",
       "    </tr>\n",
       "    <tr>\n",
       "      <th>294</th>\n",
       "      <td>False</td>\n",
       "      <td>False</td>\n",
       "      <td>False</td>\n",
       "      <td>False</td>\n",
       "      <td>False</td>\n",
       "      <td>False</td>\n",
       "      <td>False</td>\n",
       "      <td>False</td>\n",
       "      <td>False</td>\n",
       "      <td>False</td>\n",
       "      <td>False</td>\n",
       "      <td>False</td>\n",
       "      <td>False</td>\n",
       "    </tr>\n",
       "    <tr>\n",
       "      <th>295</th>\n",
       "      <td>False</td>\n",
       "      <td>False</td>\n",
       "      <td>False</td>\n",
       "      <td>False</td>\n",
       "      <td>False</td>\n",
       "      <td>False</td>\n",
       "      <td>False</td>\n",
       "      <td>False</td>\n",
       "      <td>False</td>\n",
       "      <td>False</td>\n",
       "      <td>False</td>\n",
       "      <td>False</td>\n",
       "      <td>False</td>\n",
       "    </tr>\n",
       "    <tr>\n",
       "      <th>296</th>\n",
       "      <td>False</td>\n",
       "      <td>False</td>\n",
       "      <td>False</td>\n",
       "      <td>False</td>\n",
       "      <td>False</td>\n",
       "      <td>False</td>\n",
       "      <td>False</td>\n",
       "      <td>False</td>\n",
       "      <td>False</td>\n",
       "      <td>False</td>\n",
       "      <td>False</td>\n",
       "      <td>False</td>\n",
       "      <td>False</td>\n",
       "    </tr>\n",
       "    <tr>\n",
       "      <th>297</th>\n",
       "      <td>False</td>\n",
       "      <td>False</td>\n",
       "      <td>False</td>\n",
       "      <td>False</td>\n",
       "      <td>False</td>\n",
       "      <td>False</td>\n",
       "      <td>False</td>\n",
       "      <td>False</td>\n",
       "      <td>False</td>\n",
       "      <td>False</td>\n",
       "      <td>False</td>\n",
       "      <td>False</td>\n",
       "      <td>False</td>\n",
       "    </tr>\n",
       "    <tr>\n",
       "      <th>298</th>\n",
       "      <td>False</td>\n",
       "      <td>False</td>\n",
       "      <td>False</td>\n",
       "      <td>False</td>\n",
       "      <td>False</td>\n",
       "      <td>False</td>\n",
       "      <td>False</td>\n",
       "      <td>False</td>\n",
       "      <td>False</td>\n",
       "      <td>False</td>\n",
       "      <td>False</td>\n",
       "      <td>False</td>\n",
       "      <td>False</td>\n",
       "    </tr>\n",
       "  </tbody>\n",
       "</table>\n",
       "<p>299 rows × 13 columns</p>\n",
       "</div>"
      ],
      "text/plain": [
       "       age  anaemia  creatinine_phosphokinase  diabetes  ejection_fraction  \\\n",
       "0    False    False                     False     False              False   \n",
       "1    False    False                     False     False              False   \n",
       "2    False    False                     False     False              False   \n",
       "3    False    False                     False     False              False   \n",
       "4    False    False                     False     False              False   \n",
       "..     ...      ...                       ...       ...                ...   \n",
       "294  False    False                     False     False              False   \n",
       "295  False    False                     False     False              False   \n",
       "296  False    False                     False     False              False   \n",
       "297  False    False                     False     False              False   \n",
       "298  False    False                     False     False              False   \n",
       "\n",
       "     high_blood_pressure  platelets  serum_creatinine  serum_sodium    sex  \\\n",
       "0                  False      False             False         False  False   \n",
       "1                  False      False             False         False  False   \n",
       "2                  False      False             False         False  False   \n",
       "3                  False      False             False         False  False   \n",
       "4                  False      False             False         False  False   \n",
       "..                   ...        ...               ...           ...    ...   \n",
       "294                False      False             False         False  False   \n",
       "295                False      False             False         False  False   \n",
       "296                False      False             False         False  False   \n",
       "297                False      False             False         False  False   \n",
       "298                False      False             False         False  False   \n",
       "\n",
       "     smoking   time  DEATH_EVENT  \n",
       "0      False  False        False  \n",
       "1      False  False        False  \n",
       "2      False  False        False  \n",
       "3      False  False        False  \n",
       "4      False  False        False  \n",
       "..       ...    ...          ...  \n",
       "294    False  False        False  \n",
       "295    False  False        False  \n",
       "296    False  False        False  \n",
       "297    False  False        False  \n",
       "298    False  False        False  \n",
       "\n",
       "[299 rows x 13 columns]"
      ]
     },
     "execution_count": 44,
     "metadata": {},
     "output_type": "execute_result"
    }
   ],
   "source": [
    "a.isnull()"
   ]
  },
  {
   "cell_type": "code",
   "execution_count": 45,
   "id": "739fdd10",
   "metadata": {},
   "outputs": [
    {
     "data": {
      "text/plain": [
       "age                         0\n",
       "anaemia                     0\n",
       "creatinine_phosphokinase    0\n",
       "diabetes                    0\n",
       "ejection_fraction           0\n",
       "high_blood_pressure         0\n",
       "platelets                   0\n",
       "serum_creatinine            0\n",
       "serum_sodium                0\n",
       "sex                         0\n",
       "smoking                     0\n",
       "time                        0\n",
       "DEATH_EVENT                 0\n",
       "dtype: int64"
      ]
     },
     "execution_count": 45,
     "metadata": {},
     "output_type": "execute_result"
    }
   ],
   "source": [
    "a.isnull().sum()"
   ]
  },
  {
   "cell_type": "markdown",
   "id": "fa6ea79a",
   "metadata": {},
   "source": [
    "<H1>Age</H1>"
   ]
  },
  {
   "cell_type": "code",
   "execution_count": 46,
   "id": "e6ae8d7a",
   "metadata": {},
   "outputs": [
    {
     "data": {
      "text/plain": [
       "{'whiskers': [<matplotlib.lines.Line2D at 0x22c19e57ee0>,\n",
       "  <matplotlib.lines.Line2D at 0x22c19e632b0>],\n",
       " 'caps': [<matplotlib.lines.Line2D at 0x22c19e63640>,\n",
       "  <matplotlib.lines.Line2D at 0x22c19e639d0>],\n",
       " 'boxes': [<matplotlib.lines.Line2D at 0x22c19e57b20>],\n",
       " 'medians': [<matplotlib.lines.Line2D at 0x22c19e63d60>],\n",
       " 'fliers': [<matplotlib.lines.Line2D at 0x22c19e72130>],\n",
       " 'means': []}"
      ]
     },
     "execution_count": 46,
     "metadata": {},
     "output_type": "execute_result"
    },
    {
     "data": {
      "image/png": "[encoded data removed]",
      "text/plain": [
       "<Figure size 432x288 with 1 Axes>"
      ]
     },
     "metadata": {
      "needs_background": "light"
     },
     "output_type": "display_data"
    }
   ],
   "source": [
    "plt.boxplot(a.age)"
   ]
  },
  {
   "cell_type": "markdown",
   "id": "dcb73b71",
   "metadata": {},
   "source": [
    "<H1>Anaemia</H1>"
   ]
  },
  {
   "cell_type": "code",
   "execution_count": 47,
   "id": "09ad1c95",
   "metadata": {},
   "outputs": [
    {
     "name": "stderr",
     "output_type": "stream",
     "text": [
      "C:\\Users\\SANJAY\\anaconda3\\lib\\site-packages\\seaborn\\_decorators.py:36: FutureWarning: Pass the following variable as a keyword arg: x. From version 0.12, the only valid positional argument will be `data`, and passing other arguments without an explicit keyword will result in an error or misinterpretation.\n",
      "  warnings.warn(\n"
     ]
    },
    {
     "data": {
      "text/plain": [
       "<AxesSubplot:xlabel='anaemia', ylabel='count'>"
      ]
     },
     "execution_count": 47,
     "metadata": {},
     "output_type": "execute_result"
    },
    {
     "data": {
      "image/png": "[encoded data removed]",
      "text/plain": [
       "<Figure size 432x288 with 1 Axes>"
      ]
     },
     "metadata": {
      "needs_background": "light"
     },
     "output_type": "display_data"
    }
   ],
   "source": [
    "sns.countplot(a.anaemia)"
   ]
  },
  {
   "cell_type": "markdown",
   "id": "65849a95",
   "metadata": {},
   "source": [
    "<H1>Creatinine Phosphokinase</H1>"
   ]
  },
  {
   "cell_type": "code",
   "execution_count": 48,
   "id": "c1221c45",
   "metadata": {},
   "outputs": [
    {
     "data": {
      "text/plain": [
       "{'whiskers': [<matplotlib.lines.Line2D at 0x22c19f224f0>,\n",
       "  <matplotlib.lines.Line2D at 0x22c19f22880>],\n",
       " 'caps': [<matplotlib.lines.Line2D at 0x22c19f22c10>,\n",
       "  <matplotlib.lines.Line2D at 0x22c19f22fa0>],\n",
       " 'boxes': [<matplotlib.lines.Line2D at 0x22c19f22160>],\n",
       " 'medians': [<matplotlib.lines.Line2D at 0x22c19f2b3a0>],\n",
       " 'fliers': [<matplotlib.lines.Line2D at 0x22c19f2b730>],\n",
       " 'means': []}"
      ]
     },
     "execution_count": 48,
     "metadata": {},
     "output_type": "execute_result"
    },
    {
     "data": {
      "image/png": "[encoded data removed]",
      "text/plain": [
       "<Figure size 432x288 with 1 Axes>"
      ]
     },
     "metadata": {
      "needs_background": "light"
     },
     "output_type": "display_data"
    }
   ],
   "source": [
    "plt.boxplot(a.creatinine_phosphokinase)"
   ]
  },
  {
   "cell_type": "code",
   "execution_count": 49,
   "id": "79f43eee",
   "metadata": {},
   "outputs": [
    {
     "name": "stdout",
     "output_type": "stream",
     "text": [
      "116.5\n",
      "250.0\n",
      "582.0\n",
      "465.5\n",
      "1280.25\n",
      "-581.75\n"
     ]
    }
   ],
   "source": [
    "cQ1=a.creatinine_phosphokinase.quantile(0.25)\n",
    "print(cQ1)\n",
    "cQ2=a.creatinine_phosphokinase.quantile(0.50)\n",
    "print(cQ2)\n",
    "cQ3=a.creatinine_phosphokinase.quantile(0.75)\n",
    "print(cQ3)\n",
    "cIQR=cQ3-cQ1\n",
    "print(cIQR)\n",
    "cupper_extreme=cQ3+1.5*cIQR\n",
    "print(cupper_extreme)\n",
    "clower_extreme=cQ1-1.5*cIQR\n",
    "print(clower_extreme)"
   ]
  },
  {
   "cell_type": "code",
   "execution_count": 50,
   "id": "abf55099",
   "metadata": {},
   "outputs": [
    {
     "name": "stderr",
     "output_type": "stream",
     "text": [
      "C:\\Users\\SANJAY\\AppData\\Local\\Temp/ipykernel_1584/1215262143.py:1: SettingWithCopyWarning: \n",
      "A value is trying to be set on a copy of a slice from a DataFrame\n",
      "\n",
      "See the caveats in the documentation: https://pandas.pydata.org/pandas-docs/stable/user_guide/indexing.html#returning-a-view-versus-a-copy\n",
      "  a.creatinine_phosphokinase[a.creatinine_phosphokinase>cupper_extreme]=cupper_extreme\n",
      "C:\\Users\\SANJAY\\AppData\\Local\\Temp/ipykernel_1584/1215262143.py:2: SettingWithCopyWarning: \n",
      "A value is trying to be set on a copy of a slice from a DataFrame\n",
      "\n",
      "See the caveats in the documentation: https://pandas.pydata.org/pandas-docs/stable/user_guide/indexing.html#returning-a-view-versus-a-copy\n",
      "  a.creatinine_phosphokinase[a.creatinine_phosphokinase<clower_extreme]=clower_extreme\n"
     ]
    },
    {
     "data": {
      "text/plain": [
       "{'whiskers': [<matplotlib.lines.Line2D at 0x22c19f95190>,\n",
       "  <matplotlib.lines.Line2D at 0x22c19f95520>],\n",
       " 'caps': [<matplotlib.lines.Line2D at 0x22c19f958b0>,\n",
       "  <matplotlib.lines.Line2D at 0x22c19f95c40>],\n",
       " 'boxes': [<matplotlib.lines.Line2D at 0x22c19f84dc0>],\n",
       " 'medians': [<matplotlib.lines.Line2D at 0x22c19f95fd0>],\n",
       " 'fliers': [<matplotlib.lines.Line2D at 0x22c19fa03a0>],\n",
       " 'means': []}"
      ]
     },
     "execution_count": 50,
     "metadata": {},
     "output_type": "execute_result"
    },
    {
     "data": {
      "image/png": "[encoded data removed]",
      "text/plain": [
       "<Figure size 432x288 with 1 Axes>"
      ]
     },
     "metadata": {
      "needs_background": "light"
     },
     "output_type": "display_data"
    }
   ],
   "source": [
    "a.creatinine_phosphokinase[a.creatinine_phosphokinase>cupper_extreme]=cupper_extreme\n",
    "a.creatinine_phosphokinase[a.creatinine_phosphokinase<clower_extreme]=clower_extreme\n",
    "plt.boxplot(a.creatinine_phosphokinase)"
   ]
  },
  {
   "cell_type": "markdown",
   "id": "f253a098",
   "metadata": {},
   "source": [
    "<H1>Diabetes</H1>"
   ]
  },
  {
   "cell_type": "code",
   "execution_count": 51,
   "id": "70516340",
   "metadata": {},
   "outputs": [
    {
     "name": "stderr",
     "output_type": "stream",
     "text": [
      "C:\\Users\\SANJAY\\anaconda3\\lib\\site-packages\\seaborn\\_decorators.py:36: FutureWarning: Pass the following variable as a keyword arg: x. From version 0.12, the only valid positional argument will be `data`, and passing other arguments without an explicit keyword will result in an error or misinterpretation.\n",
      "  warnings.warn(\n"
     ]
    },
    {
     "data": {
      "text/plain": [
       "<AxesSubplot:xlabel='diabetes', ylabel='count'>"
      ]
     },
     "execution_count": 51,
     "metadata": {},
     "output_type": "execute_result"
    },
    {
     "data": {
      "image/png": "[encoded data removed]",
      "text/plain": [
       "<Figure size 432x288 with 1 Axes>"
      ]
     },
     "metadata": {
      "needs_background": "light"
     },
     "output_type": "display_data"
    }
   ],
   "source": [
    "sns.countplot(a.diabetes)"
   ]
  },
  {
   "cell_type": "markdown",
   "id": "575314ce",
   "metadata": {},
   "source": [
    "<H1>Ejection Fraction</H1>"
   ]
  },
  {
   "cell_type": "code",
   "execution_count": 52,
   "id": "bae9452d",
   "metadata": {},
   "outputs": [
    {
     "data": {
      "text/plain": [
       "{'whiskers': [<matplotlib.lines.Line2D at 0x22c1a04c6a0>,\n",
       "  <matplotlib.lines.Line2D at 0x22c1a04ca30>],\n",
       " 'caps': [<matplotlib.lines.Line2D at 0x22c1a04cdc0>,\n",
       "  <matplotlib.lines.Line2D at 0x22c1a057190>],\n",
       " 'boxes': [<matplotlib.lines.Line2D at 0x22c1a04c2e0>],\n",
       " 'medians': [<matplotlib.lines.Line2D at 0x22c1a057520>],\n",
       " 'fliers': [<matplotlib.lines.Line2D at 0x22c1a0578b0>],\n",
       " 'means': []}"
      ]
     },
     "execution_count": 52,
     "metadata": {},
     "output_type": "execute_result"
    },
    {
     "data": {
      "image/png": "[encoded data removed]",
      "text/plain": [
       "<Figure size 432x288 with 1 Axes>"
      ]
     },
     "metadata": {
      "needs_background": "light"
     },
     "output_type": "display_data"
    }
   ],
   "source": [
    "plt.boxplot(a.ejection_fraction)"
   ]
  },
  {
   "cell_type": "markdown",
   "id": "6719cebe",
   "metadata": {},
   "source": [
    "<H1>High Blood Pressure</H1>"
   ]
  },
  {
   "cell_type": "code",
   "execution_count": 53,
   "id": "01fe8898",
   "metadata": {},
   "outputs": [
    {
     "name": "stderr",
     "output_type": "stream",
     "text": [
      "C:\\Users\\SANJAY\\anaconda3\\lib\\site-packages\\seaborn\\_decorators.py:36: FutureWarning: Pass the following variable as a keyword arg: x. From version 0.12, the only valid positional argument will be `data`, and passing other arguments without an explicit keyword will result in an error or misinterpretation.\n",
      "  warnings.warn(\n"
     ]
    },
    {
     "data": {
      "text/plain": [
       "<AxesSubplot:xlabel='high_blood_pressure', ylabel='count'>"
      ]
     },
     "execution_count": 53,
     "metadata": {},
     "output_type": "execute_result"
    },
    {
     "data": {
      "image/png": "[encoded data removed]",
      "text/plain": [
       "<Figure size 432x288 with 1 Axes>"
      ]
     },
     "metadata": {
      "needs_background": "light"
     },
     "output_type": "display_data"
    }
   ],
   "source": [
    "sns.countplot(a.high_blood_pressure)"
   ]
  },
  {
   "cell_type": "markdown",
   "id": "d613f5fc",
   "metadata": {},
   "source": [
    "<H1>Platelets</H1>"
   ]
  },
  {
   "cell_type": "code",
   "execution_count": 54,
   "id": "25423328",
   "metadata": {},
   "outputs": [
    {
     "data": {
      "text/plain": [
       "{'whiskers': [<matplotlib.lines.Line2D at 0x22c1a10b880>,\n",
       "  <matplotlib.lines.Line2D at 0x22c1a10bc10>],\n",
       " 'caps': [<matplotlib.lines.Line2D at 0x22c1a10bfa0>,\n",
       "  <matplotlib.lines.Line2D at 0x22c1a118370>],\n",
       " 'boxes': [<matplotlib.lines.Line2D at 0x22c1a10b4f0>],\n",
       " 'medians': [<matplotlib.lines.Line2D at 0x22c1a118700>],\n",
       " 'fliers': [<matplotlib.lines.Line2D at 0x22c1a118a90>],\n",
       " 'means': []}"
      ]
     },
     "execution_count": 54,
     "metadata": {},
     "output_type": "execute_result"
    },
    {
     "data": {
      "image/png": "[encoded data removed]",
      "text/plain": [
       "<Figure size 432x288 with 1 Axes>"
      ]
     },
     "metadata": {
      "needs_background": "light"
     },
     "output_type": "display_data"
    }
   ],
   "source": [
    "plt.boxplot(a.platelets)"
   ]
  },
  {
   "cell_type": "code",
   "execution_count": 55,
   "id": "edc49cf4",
   "metadata": {},
   "outputs": [
    {
     "name": "stdout",
     "output_type": "stream",
     "text": [
      "212500.0\n",
      "262000.0\n",
      "303500.0\n",
      "91000.0\n",
      "440000.0\n",
      "76000.0\n"
     ]
    }
   ],
   "source": [
    "pQ1=a.platelets.quantile(0.25)\n",
    "print(pQ1)\n",
    "pQ2=a.platelets.quantile(0.50)\n",
    "print(pQ2)\n",
    "pQ3=a.platelets.quantile(0.75)\n",
    "print(pQ3)\n",
    "pIQR=pQ3-pQ1\n",
    "print(pIQR)\n",
    "pupper_extreme=pQ3+1.5*pIQR\n",
    "print(pupper_extreme)\n",
    "plower_extreme=pQ1-1.5*pIQR\n",
    "print(plower_extreme)"
   ]
  },
  {
   "cell_type": "code",
   "execution_count": 56,
   "id": "338903c3",
   "metadata": {},
   "outputs": [
    {
     "name": "stderr",
     "output_type": "stream",
     "text": [
      "C:\\Users\\SANJAY\\AppData\\Local\\Temp/ipykernel_1584/1440952322.py:1: SettingWithCopyWarning: \n",
      "A value is trying to be set on a copy of a slice from a DataFrame\n",
      "\n",
      "See the caveats in the documentation: https://pandas.pydata.org/pandas-docs/stable/user_guide/indexing.html#returning-a-view-versus-a-copy\n",
      "  a.platelets[a.platelets>pupper_extreme]=pupper_extreme\n",
      "C:\\Users\\SANJAY\\AppData\\Local\\Temp/ipykernel_1584/1440952322.py:2: SettingWithCopyWarning: \n",
      "A value is trying to be set on a copy of a slice from a DataFrame\n",
      "\n",
      "See the caveats in the documentation: https://pandas.pydata.org/pandas-docs/stable/user_guide/indexing.html#returning-a-view-versus-a-copy\n",
      "  a.platelets[a.platelets<plower_extreme]=plower_extreme\n"
     ]
    },
    {
     "data": {
      "text/plain": [
       "{'whiskers': [<matplotlib.lines.Line2D at 0x22c1a16aca0>,\n",
       "  <matplotlib.lines.Line2D at 0x22c1a17a070>],\n",
       " 'caps': [<matplotlib.lines.Line2D at 0x22c1a17a400>,\n",
       "  <matplotlib.lines.Line2D at 0x22c1a17a7c0>],\n",
       " 'boxes': [<matplotlib.lines.Line2D at 0x22c1a16a910>],\n",
       " 'medians': [<matplotlib.lines.Line2D at 0x22c1a17ab50>],\n",
       " 'fliers': [<matplotlib.lines.Line2D at 0x22c1a17aee0>],\n",
       " 'means': []}"
      ]
     },
     "execution_count": 56,
     "metadata": {},
     "output_type": "execute_result"
    },
    {
     "data": {
      "image/png": "[encoded data removed]",
      "text/plain": [
       "<Figure size 432x288 with 1 Axes>"
      ]
     },
     "metadata": {
      "needs_background": "light"
     },
     "output_type": "display_data"
    }
   ],
   "source": [
    "a.platelets[a.platelets>pupper_extreme]=pupper_extreme\n",
    "a.platelets[a.platelets<plower_extreme]=plower_extreme\n",
    "plt.boxplot(a.platelets)"
   ]
  },
  {
   "cell_type": "markdown",
   "id": "d486c951",
   "metadata": {},
   "source": [
    "<H1>Serum Creatinine</H1>"
   ]
  },
  {
   "cell_type": "code",
   "execution_count": 57,
   "id": "bf2056d5",
   "metadata": {},
   "outputs": [
    {
     "data": {
      "text/plain": [
       "{'whiskers': [<matplotlib.lines.Line2D at 0x22c1a1e2160>,\n",
       "  <matplotlib.lines.Line2D at 0x22c1a1e24f0>],\n",
       " 'caps': [<matplotlib.lines.Line2D at 0x22c1a1e2880>,\n",
       "  <matplotlib.lines.Line2D at 0x22c1a1e2c10>],\n",
       " 'boxes': [<matplotlib.lines.Line2D at 0x22c1a1d2d90>],\n",
       " 'medians': [<matplotlib.lines.Line2D at 0x22c1a1e2fa0>],\n",
       " 'fliers': [<matplotlib.lines.Line2D at 0x22c1a1ed370>],\n",
       " 'means': []}"
      ]
     },
     "execution_count": 57,
     "metadata": {},
     "output_type": "execute_result"
    },
    {
     "data": {
      "image/png": "[encoded data removed]",
      "text/plain": [
       "<Figure size 432x288 with 1 Axes>"
      ]
     },
     "metadata": {
      "needs_background": "light"
     },
     "output_type": "display_data"
    }
   ],
   "source": [
    "plt.boxplot(a.serum_creatinine)"
   ]
  },
  {
   "cell_type": "code",
   "execution_count": 58,
   "id": "b8b34f57",
   "metadata": {},
   "outputs": [
    {
     "name": "stdout",
     "output_type": "stream",
     "text": [
      "0.9\n",
      "1.1\n",
      "1.4\n",
      "0.4999999999999999\n",
      "2.1499999999999995\n",
      "0.15000000000000024\n"
     ]
    }
   ],
   "source": [
    "sQ1=a.serum_creatinine.quantile(0.25)\n",
    "print(sQ1)\n",
    "sQ2=a.serum_creatinine.quantile(0.50)\n",
    "print(sQ2)\n",
    "sQ3=a.serum_creatinine.quantile(0.75)\n",
    "print(sQ3)\n",
    "sIQR=sQ3-sQ1\n",
    "print(sIQR)\n",
    "supper_extreme=sQ3+1.5*sIQR\n",
    "print(supper_extreme)\n",
    "slower_extreme=sQ1-1.5*sIQR\n",
    "print(slower_extreme)"
   ]
  },
  {
   "cell_type": "code",
   "execution_count": 59,
   "id": "ec7e6001",
   "metadata": {},
   "outputs": [
    {
     "name": "stderr",
     "output_type": "stream",
     "text": [
      "C:\\Users\\SANJAY\\AppData\\Local\\Temp/ipykernel_1584/726827752.py:1: SettingWithCopyWarning: \n",
      "A value is trying to be set on a copy of a slice from a DataFrame\n",
      "\n",
      "See the caveats in the documentation: https://pandas.pydata.org/pandas-docs/stable/user_guide/indexing.html#returning-a-view-versus-a-copy\n",
      "  a.serum_creatinine[a.serum_creatinine>supper_extreme]=supper_extreme\n",
      "C:\\Users\\SANJAY\\AppData\\Local\\Temp/ipykernel_1584/726827752.py:2: SettingWithCopyWarning: \n",
      "A value is trying to be set on a copy of a slice from a DataFrame\n",
      "\n",
      "See the caveats in the documentation: https://pandas.pydata.org/pandas-docs/stable/user_guide/indexing.html#returning-a-view-versus-a-copy\n",
      "  a.serum_creatinine[a.serum_creatinine<slower_extreme]=slower_extreme\n"
     ]
    },
    {
     "data": {
      "text/plain": [
       "{'whiskers': [<matplotlib.lines.Line2D at 0x22c1a238f10>,\n",
       "  <matplotlib.lines.Line2D at 0x22c1b2182e0>],\n",
       " 'caps': [<matplotlib.lines.Line2D at 0x22c1b218670>,\n",
       "  <matplotlib.lines.Line2D at 0x22c1b218a00>],\n",
       " 'boxes': [<matplotlib.lines.Line2D at 0x22c1a238b80>],\n",
       " 'medians': [<matplotlib.lines.Line2D at 0x22c1b218d90>],\n",
       " 'fliers': [<matplotlib.lines.Line2D at 0x22c1b225160>],\n",
       " 'means': []}"
      ]
     },
     "execution_count": 59,
     "metadata": {},
     "output_type": "execute_result"
    },
    {
     "data": {
      "image/png": "[encoded data removed]",
      "text/plain": [
       "<Figure size 432x288 with 1 Axes>"
      ]
     },
     "metadata": {
      "needs_background": "light"
     },
     "output_type": "display_data"
    }
   ],
   "source": [
    "a.serum_creatinine[a.serum_creatinine>supper_extreme]=supper_extreme\n",
    "a.serum_creatinine[a.serum_creatinine<slower_extreme]=slower_extreme\n",
    "plt.boxplot(a.serum_creatinine)"
   ]
  },
  {
   "cell_type": "markdown",
   "id": "c666738c",
   "metadata": {},
   "source": [
    "<H1>Serum Sodium</H1>"
   ]
  },
  {
   "cell_type": "code",
   "execution_count": 60,
   "id": "3167756c",
   "metadata": {},
   "outputs": [
    {
     "data": {
      "text/plain": [
       "{'whiskers': [<matplotlib.lines.Line2D at 0x22c1b274b50>,\n",
       "  <matplotlib.lines.Line2D at 0x22c1b274ee0>],\n",
       " 'caps': [<matplotlib.lines.Line2D at 0x22c1b2832b0>,\n",
       "  <matplotlib.lines.Line2D at 0x22c1b283640>],\n",
       " 'boxes': [<matplotlib.lines.Line2D at 0x22c1b2747c0>],\n",
       " 'medians': [<matplotlib.lines.Line2D at 0x22c1b2839d0>],\n",
       " 'fliers': [<matplotlib.lines.Line2D at 0x22c1b283d60>],\n",
       " 'means': []}"
      ]
     },
     "execution_count": 60,
     "metadata": {},
     "output_type": "execute_result"
    },
    {
     "data": {
      "image/png": "[encoded data removed]",
      "text/plain": [
       "<Figure size 432x288 with 1 Axes>"
      ]
     },
     "metadata": {
      "needs_background": "light"
     },
     "output_type": "display_data"
    }
   ],
   "source": [
    "plt.boxplot(a.serum_sodium)"
   ]
  },
  {
   "cell_type": "markdown",
   "id": "54dcbc7e",
   "metadata": {},
   "source": [
    "<H1>Sex</H1>"
   ]
  },
  {
   "cell_type": "code",
   "execution_count": 61,
   "id": "2bd20aa0",
   "metadata": {},
   "outputs": [
    {
     "name": "stderr",
     "output_type": "stream",
     "text": [
      "C:\\Users\\SANJAY\\anaconda3\\lib\\site-packages\\seaborn\\_decorators.py:36: FutureWarning: Pass the following variable as a keyword arg: x. From version 0.12, the only valid positional argument will be `data`, and passing other arguments without an explicit keyword will result in an error or misinterpretation.\n",
      "  warnings.warn(\n"
     ]
    },
    {
     "data": {
      "text/plain": [
       "<AxesSubplot:xlabel='sex', ylabel='count'>"
      ]
     },
     "execution_count": 61,
     "metadata": {},
     "output_type": "execute_result"
    },
    {
     "data": {
      "image/png": "[encoded data removed]",
      "text/plain": [
       "<Figure size 432x288 with 1 Axes>"
      ]
     },
     "metadata": {
      "needs_background": "light"
     },
     "output_type": "display_data"
    }
   ],
   "source": [
    "sns.countplot(a.sex)"
   ]
  },
  {
   "cell_type": "markdown",
   "id": "86d3463f",
   "metadata": {},
   "source": [
    "<H1>Smoking</H1>"
   ]
  },
  {
   "cell_type": "code",
   "execution_count": 62,
   "id": "3d0c0670",
   "metadata": {},
   "outputs": [
    {
     "name": "stderr",
     "output_type": "stream",
     "text": [
      "C:\\Users\\SANJAY\\anaconda3\\lib\\site-packages\\seaborn\\_decorators.py:36: FutureWarning: Pass the following variable as a keyword arg: x. From version 0.12, the only valid positional argument will be `data`, and passing other arguments without an explicit keyword will result in an error or misinterpretation.\n",
      "  warnings.warn(\n"
     ]
    },
    {
     "data": {
      "text/plain": [
       "<AxesSubplot:xlabel='smoking', ylabel='count'>"
      ]
     },
     "execution_count": 62,
     "metadata": {},
     "output_type": "execute_result"
    },
    {
     "data": {
      "image/png": "[encoded data removed]",
      "text/plain": [
       "<Figure size 432x288 with 1 Axes>"
      ]
     },
     "metadata": {
      "needs_background": "light"
     },
     "output_type": "display_data"
    }
   ],
   "source": [
    "sns.countplot(a.smoking)"
   ]
  },
  {
   "cell_type": "markdown",
   "id": "55aa93a6",
   "metadata": {},
   "source": [
    "<H1>Death Event</H1>"
   ]
  },
  {
   "cell_type": "code",
   "execution_count": 63,
   "id": "2df2d2e6",
   "metadata": {},
   "outputs": [
    {
     "name": "stderr",
     "output_type": "stream",
     "text": [
      "C:\\Users\\SANJAY\\anaconda3\\lib\\site-packages\\seaborn\\_decorators.py:36: FutureWarning: Pass the following variable as a keyword arg: x. From version 0.12, the only valid positional argument will be `data`, and passing other arguments without an explicit keyword will result in an error or misinterpretation.\n",
      "  warnings.warn(\n"
     ]
    },
    {
     "data": {
      "text/plain": [
       "<AxesSubplot:xlabel='DEATH_EVENT', ylabel='count'>"
      ]
     },
     "execution_count": 63,
     "metadata": {},
     "output_type": "execute_result"
    },
    {
     "data": {
      "image/png": "[encoded data removed]",
      "text/plain": [
       "<Figure size 432x288 with 1 Axes>"
      ]
     },
     "metadata": {
      "needs_background": "light"
     },
     "output_type": "display_data"
    }
   ],
   "source": [
    "sns.countplot(a.DEATH_EVENT)"
   ]
  },
  {
   "cell_type": "markdown",
   "id": "edf515f4",
   "metadata": {},
   "source": [
    "<H1>Creating Model</H1>"
   ]
  },
  {
   "cell_type": "code",
   "execution_count": 64,
   "id": "6beec637",
   "metadata": {},
   "outputs": [
    {
     "name": "stdout",
     "output_type": "stream",
     "text": [
      "0      1\n",
      "1      1\n",
      "2      1\n",
      "3      1\n",
      "4      1\n",
      "      ..\n",
      "294    0\n",
      "295    0\n",
      "296    0\n",
      "297    0\n",
      "298    0\n",
      "Name: DEATH_EVENT, Length: 299, dtype: int64\n"
     ]
    }
   ],
   "source": [
    "y=a.DEATH_EVENT\n",
    "print(y)"
   ]
  },
  {
   "cell_type": "code",
   "execution_count": 65,
   "id": "97791954",
   "metadata": {},
   "outputs": [
    {
     "name": "stdout",
     "output_type": "stream",
     "text": [
      "      age  creatinine_phosphokinase  ejection_fraction  platelets  \\\n",
      "0    75.0                    582.00                 20  265000.00   \n",
      "1    55.0                   1280.25                 38  263358.03   \n",
      "2    65.0                    146.00                 20  162000.00   \n",
      "3    50.0                    111.00                 20  210000.00   \n",
      "4    65.0                    160.00                 20  327000.00   \n",
      "..    ...                       ...                ...        ...   \n",
      "294  62.0                     61.00                 38  155000.00   \n",
      "295  55.0                   1280.25                 38  270000.00   \n",
      "296  45.0                   1280.25                 60  440000.00   \n",
      "297  45.0                   1280.25                 38  140000.00   \n",
      "298  50.0                    196.00                 45  395000.00   \n",
      "\n",
      "     serum_creatinine  serum_sodium  \n",
      "0                1.90           130  \n",
      "1                1.10           136  \n",
      "2                1.30           129  \n",
      "3                1.90           137  \n",
      "4                2.15           116  \n",
      "..                ...           ...  \n",
      "294              1.10           143  \n",
      "295              1.20           139  \n",
      "296              0.80           138  \n",
      "297              1.40           140  \n",
      "298              1.60           136  \n",
      "\n",
      "[299 rows x 6 columns]\n"
     ]
    }
   ],
   "source": [
    "x=a.drop(['anaemia','diabetes','high_blood_pressure','smoking','sex','time','DEATH_EVENT'],axis=1)\n",
    "print(x)"
   ]
  },
  {
   "cell_type": "code",
   "execution_count": 66,
   "id": "91b23fa9",
   "metadata": {},
   "outputs": [
    {
     "name": "stdout",
     "output_type": "stream",
     "text": [
      "      age  creatinine_phosphokinase  ejection_fraction  platelets  \\\n",
      "118  65.0                    113.00                 60  203000.00   \n",
      "288  65.0                    892.00                 35  263358.03   \n",
      "59   72.0                    364.00                 20  254000.00   \n",
      "69   65.0                    113.00                 25  440000.00   \n",
      "160  66.0                     72.00                 40  242000.00   \n",
      "..    ...                       ...                ...        ...   \n",
      "66   42.0                    250.00                 15  213000.00   \n",
      "53   70.0                     69.00                 50  351000.00   \n",
      "79   55.0                    336.00                 45  324000.00   \n",
      "280  70.0                   1280.25                 40  241000.00   \n",
      "8    65.0                    157.00                 65  263358.03   \n",
      "\n",
      "     serum_creatinine  serum_sodium  \n",
      "118              0.90           140  \n",
      "288              1.10           142  \n",
      "59               1.30           136  \n",
      "69               1.83           135  \n",
      "160              1.20           134  \n",
      "..                ...           ...  \n",
      "66               1.30           136  \n",
      "53               1.00           134  \n",
      "79               0.90           140  \n",
      "280              1.00           137  \n",
      "8                1.50           138  \n",
      "\n",
      "[239 rows x 6 columns]\n",
      "      age  creatinine_phosphokinase  ejection_fraction  platelets  \\\n",
      "221  65.0                    118.00                 50  194000.00   \n",
      "139  50.0                   1280.25                 30  211000.00   \n",
      "235  77.0                    109.00                 50  406000.00   \n",
      "175  60.0                     95.00                 60  337000.00   \n",
      "230  60.0                    166.00                 30   76000.00   \n",
      "134  81.0                   1280.25                 35  231000.00   \n",
      "128  61.0                    248.00                 30  267000.00   \n",
      "88   44.0                     84.00                 40  235000.00   \n",
      "27   70.0                    122.00                 45  284000.00   \n",
      "227  55.0                   1280.25                 35  141000.00   \n",
      "169  70.0                    835.00                 35  305000.00   \n",
      "7    60.0                    315.00                 60  440000.00   \n",
      "205  50.0                    167.00                 45  362000.00   \n",
      "243  73.0                   1185.00                 40  220000.00   \n",
      "161  45.0                    130.00                 35  174000.00   \n",
      "18   70.0                    125.00                 25  237000.00   \n",
      "281  70.0                    582.00                 40   76000.00   \n",
      "217  54.0                    427.00                 70  151000.00   \n",
      "60   45.0                   1280.25                 25  390000.00   \n",
      "296  45.0                   1280.25                 60  440000.00   \n",
      "199  60.0                   1211.00                 35  263358.03   \n",
      "213  48.0                    131.00                 30  244000.00   \n",
      "148  75.0                    582.00                 30  225000.00   \n",
      "282  42.0                     64.00                 30  215000.00   \n",
      "209  49.0                    972.00                 35  268000.00   \n",
      "195  77.0                    418.00                 45  223000.00   \n",
      "184  58.0                    145.00                 25  219000.00   \n",
      "248  40.0                    624.00                 35  301000.00   \n",
      "112  50.0                    369.00                 25  252000.00   \n",
      "168  65.0                    582.00                 40  270000.00   \n",
      "263  68.0                    157.00                 60  208000.00   \n",
      "264  61.0                    582.00                 38  147000.00   \n",
      "15   82.0                    379.00                 50   76000.00   \n",
      "220  73.0                    582.00                 20  263358.03   \n",
      "229  72.0                    211.00                 25  274000.00   \n",
      "142  50.0                    482.00                 30  329000.00   \n",
      "260  55.0                     66.00                 40  203000.00   \n",
      "110  85.0                    129.00                 60  306000.00   \n",
      "46   51.0                   1280.25                 25  271000.00   \n",
      "253  70.0                     88.00                 35  236000.00   \n",
      "75   60.0                     47.00                 20  204000.00   \n",
      "206  40.0                    101.00                 40  226000.00   \n",
      "56   70.0                     75.00                 35  223000.00   \n",
      "124  60.0                    582.00                 40  217000.00   \n",
      "111  55.0                     60.00                 35  228000.00   \n",
      "285  55.0                    170.00                 40  336000.00   \n",
      "194  45.0                    582.00                 20  126000.00   \n",
      "10   75.0                     81.00                 38  368000.00   \n",
      "125  43.0                    358.00                 50  237000.00   \n",
      "247  64.0                    143.00                 25  246000.00   \n",
      "64   45.0                    582.00                 80  263358.03   \n",
      "277  70.0                    582.00                 38   76000.00   \n",
      "1    55.0                   1280.25                 38  263358.03   \n",
      "23   53.0                     63.00                 60  368000.00   \n",
      "252  50.0                    245.00                 45  274000.00   \n",
      "103  42.0                   1280.25                 30  226000.00   \n",
      "200  63.0                   1280.25                 45   76000.00   \n",
      "19   48.0                    582.00                 55   87000.00   \n",
      "149  60.0                   1280.25                 35  228000.00   \n",
      "41   50.0                    124.00                 30  153000.00   \n",
      "\n",
      "     serum_creatinine  serum_sodium  \n",
      "221              1.10           145  \n",
      "139              0.80           138  \n",
      "235              1.10           137  \n",
      "175              1.00           138  \n",
      "230              1.70           127  \n",
      "134              1.18           137  \n",
      "128              0.70           136  \n",
      "88               0.70           139  \n",
      "27               1.30           136  \n",
      "227              1.00           140  \n",
      "169              0.80           133  \n",
      "7                1.10           131  \n",
      "205              1.00           136  \n",
      "243              0.90           141  \n",
      "161              0.80           139  \n",
      "18               1.00           140  \n",
      "281              2.15           136  \n",
      "217              2.15           137  \n",
      "60               1.00           139  \n",
      "296              0.80           138  \n",
      "199              1.80           113  \n",
      "213              1.60           130  \n",
      "148              1.83           134  \n",
      "282              2.15           128  \n",
      "209              0.80           130  \n",
      "195              1.80           145  \n",
      "184              1.20           137  \n",
      "248              1.00           142  \n",
      "112              1.60           136  \n",
      "168              1.00           138  \n",
      "263              1.00           140  \n",
      "264              1.20           141  \n",
      "15               1.30           136  \n",
      "220              1.83           134  \n",
      "229              1.20           134  \n",
      "142              0.90           132  \n",
      "260              1.00           138  \n",
      "110              1.20           132  \n",
      "46               0.90           130  \n",
      "253              1.20           132  \n",
      "75               0.70           139  \n",
      "206              0.80           141  \n",
      "56               2.15           138  \n",
      "124              2.15           134  \n",
      "111              1.20           135  \n",
      "285              1.20           135  \n",
      "194              1.60           135  \n",
      "10               2.15           131  \n",
      "125              1.30           135  \n",
      "247              2.15           135  \n",
      "64               1.18           137  \n",
      "277              1.10           140  \n",
      "1                1.10           136  \n",
      "23               0.80           135  \n",
      "252              1.00           133  \n",
      "103              1.00           140  \n",
      "200              0.70           137  \n",
      "19               1.90           121  \n",
      "149              0.90           136  \n",
      "41               1.20           136  \n",
      "118    0\n",
      "288    0\n",
      "59     1\n",
      "69     1\n",
      "160    0\n",
      "      ..\n",
      "66     1\n",
      "53     1\n",
      "79     0\n",
      "280    0\n",
      "8      1\n",
      "Name: DEATH_EVENT, Length: 239, dtype: int64\n",
      "221    0\n",
      "139    0\n",
      "235    0\n",
      "175    0\n",
      "230    1\n",
      "134    0\n",
      "128    0\n",
      "88     0\n",
      "27     1\n",
      "227    0\n",
      "169    0\n",
      "7      1\n",
      "205    0\n",
      "243    0\n",
      "161    0\n",
      "18     1\n",
      "281    0\n",
      "217    1\n",
      "60     1\n",
      "296    0\n",
      "199    0\n",
      "213    1\n",
      "148    1\n",
      "282    0\n",
      "209    0\n",
      "195    1\n",
      "184    1\n",
      "248    0\n",
      "112    0\n",
      "168    0\n",
      "263    0\n",
      "264    0\n",
      "15     1\n",
      "220    1\n",
      "229    0\n",
      "142    0\n",
      "260    0\n",
      "110    1\n",
      "46     1\n",
      "253    0\n",
      "75     1\n",
      "206    0\n",
      "56     0\n",
      "124    1\n",
      "111    0\n",
      "285    0\n",
      "194    1\n",
      "10     1\n",
      "125    0\n",
      "247    0\n",
      "64     0\n",
      "277    0\n",
      "1      1\n",
      "23     0\n",
      "252    0\n",
      "103    0\n",
      "200    0\n",
      "19     1\n",
      "149    0\n",
      "41     1\n",
      "Name: DEATH_EVENT, dtype: int64\n"
     ]
    }
   ],
   "source": [
    "train_x,test_x,train_y,test_y=train_test_split(x,y,train_size=0.8,test_size=0.2,random_state=100)\n",
    "print(train_x)\n",
    "print(test_x)\n",
    "print(train_y)\n",
    "print(test_y)"
   ]
  },
  {
   "cell_type": "code",
   "execution_count": 74,
   "id": "838102df",
   "metadata": {},
   "outputs": [],
   "source": [
    "model=LogisticRegression().fit(train_x,train_y)"
   ]
  },
  {
   "cell_type": "code",
   "execution_count": 75,
   "id": "dc8fc0fa",
   "metadata": {},
   "outputs": [
    {
     "name": "stdout",
     "output_type": "stream",
     "text": [
      "[0 0 0 0 0 0 0 0 0 0 0 0 0 0 0 0 0 0 0 0 0 0 0 0 0 0 0 0 0 0 0 0 0 0 0 0 0\n",
      " 0 0 0 0 0 0 0 0 0 0 0 0 0 0 0 0 0 0 0 0 0 0 0]\n"
     ]
    }
   ],
   "source": [
    "predicted_values=model.predict(test_x)\n",
    "print(predicted_values)"
   ]
  },
  {
   "cell_type": "code",
   "execution_count": 69,
   "id": "0e80cef2",
   "metadata": {},
   "outputs": [
    {
     "name": "stdout",
     "output_type": "stream",
     "text": [
      "[[0.63320321 0.36679679]\n",
      " [0.64424398 0.35575602]\n",
      " [0.75816109 0.24183891]\n",
      " [0.7208002  0.2791998 ]\n",
      " [0.55326984 0.44673016]\n",
      " [0.65703733 0.34296267]\n",
      " [0.67949042 0.32050958]\n",
      " [0.65956836 0.34043164]\n",
      " [0.68981922 0.31018078]\n",
      " [0.5979254  0.4020746 ]\n",
      " [0.70232179 0.29767821]\n",
      " [0.77527016 0.22472984]\n",
      " [0.73473746 0.26526254]\n",
      " [0.65002772 0.34997228]\n",
      " [0.62003495 0.37996505]\n",
      " [0.66083111 0.33916889]\n",
      " [0.5532703  0.4467297 ]\n",
      " [0.60467144 0.39532856]\n",
      " [0.7498101  0.2501899 ]\n",
      " [0.77527092 0.22472908]\n",
      " [0.67725503 0.32274497]\n",
      " [0.66523254 0.33476746]\n",
      " [0.65322151 0.34677849]\n",
      " [0.64681865 0.35318135]\n",
      " [0.68010373 0.31989627]\n",
      " [0.65194522 0.34805478]\n",
      " [0.64938615 0.35061385]\n",
      " [0.69996271 0.30003729]\n",
      " [0.67022798 0.32977202]\n",
      " [0.6813267  0.3186733 ]\n",
      " [0.64230541 0.35769459]\n",
      " [0.60197745 0.39802255]\n",
      " [0.55327008 0.44672992]\n",
      " [0.67725443 0.32274557]\n",
      " [0.68376554 0.31623446]\n",
      " [0.71624707 0.28375293]\n",
      " [0.63906591 0.36093409]\n",
      " [0.70290919 0.29709081]\n",
      " [0.68193811 0.31806189]\n",
      " [0.6602     0.3398    ]\n",
      " [0.63971479 0.36028521]\n",
      " [0.65385826 0.34614174]\n",
      " [0.65194487 0.34805513]\n",
      " [0.64810396 0.35189604]\n",
      " [0.65513104 0.34486896]\n",
      " [0.72023353 0.27976647]\n",
      " [0.58773506 0.41226494]\n",
      " [0.73801538 0.26198462]\n",
      " [0.66083135 0.33916865]\n",
      " [0.66648489 0.33351511]\n",
      " [0.67725444 0.32274556]\n",
      " [0.5532703  0.4467297 ]\n",
      " [0.67725511 0.32274489]\n",
      " [0.73801537 0.26198463]\n",
      " [0.68376558 0.31623442]\n",
      " [0.65385945 0.34614055]\n",
      " [0.55327107 0.44672893]\n",
      " [0.56090868 0.43909132]\n",
      " [0.65513227 0.34486773]\n",
      " [0.60601582 0.39398418]]\n"
     ]
    }
   ],
   "source": [
    "probability=model.predict_proba(test_x)\n",
    "print(probability)"
   ]
  },
  {
   "cell_type": "code",
   "execution_count": 72,
   "id": "fa1fd4de",
   "metadata": {},
   "outputs": [
    {
     "data": {
      "text/plain": [
       "0.65"
      ]
     },
     "execution_count": 72,
     "metadata": {},
     "output_type": "execute_result"
    }
   ],
   "source": [
    "model.score(test_x,test_y)"
   ]
  },
  {
   "cell_type": "code",
   "execution_count": 73,
   "id": "cf30e5b2",
   "metadata": {},
   "outputs": [
    {
     "data": {
      "text/plain": [
       "array([[39,  0],\n",
       "       [21,  0]], dtype=int64)"
      ]
     },
     "execution_count": 73,
     "metadata": {},
     "output_type": "execute_result"
    }
   ],
   "source": [
    "confusion_matrix(test_y,predicted_values)"
   ]
  },
  {
   "cell_type": "markdown",
   "id": "e1882b16",
   "metadata": {},
   "source": [
    "<H1>Hypothesis Test</H1>"
   ]
  },
  {
   "cell_type": "code",
   "execution_count": 82,
   "id": "212cbdd2",
   "metadata": {},
   "outputs": [
    {
     "data": {
      "text/plain": [
       "(1.042175485287005,\n",
       " 0.3073160508415107,\n",
       " 1,\n",
       " array([[115.4180602,  54.5819398],\n",
       "        [ 87.5819398,  41.4180602]]))"
      ]
     },
     "execution_count": 82,
     "metadata": {},
     "output_type": "execute_result"
    }
   ],
   "source": [
    "anae=pd.crosstab(a.anaemia,a.DEATH_EVENT)\n",
    "stats.chi2_contingency(anae)"
   ]
  },
  {
   "cell_type": "code",
   "execution_count": 83,
   "id": "b9709e12",
   "metadata": {},
   "outputs": [
    {
     "data": {
      "text/plain": [
       "(0.0,\n",
       " 1.0,\n",
       " 1,\n",
       " array([[118.13377926,  55.86622074],\n",
       "        [ 84.86622074,  40.13377926]]))"
      ]
     },
     "execution_count": 83,
     "metadata": {},
     "output_type": "execute_result"
    }
   ],
   "source": [
    "dia=pd.crosstab(a.diabetes,a.DEATH_EVENT)\n",
    "stats.chi2_contingency(dia)"
   ]
  },
  {
   "cell_type": "code",
   "execution_count": 84,
   "id": "c57e7104",
   "metadata": {},
   "outputs": [
    {
     "data": {
      "text/plain": [
       "(1.5434607612967581,\n",
       " 0.21410341199416902,\n",
       " 1,\n",
       " array([[131.71237458,  62.28762542],\n",
       "        [ 71.28762542,  33.71237458]]))"
      ]
     },
     "execution_count": 84,
     "metadata": {},
     "output_type": "execute_result"
    }
   ],
   "source": [
    "pressure=pd.crosstab(a.high_blood_pressure,a.DEATH_EVENT)\n",
    "stats.chi2_contingency(pressure)"
   ]
  },
  {
   "cell_type": "code",
   "execution_count": 85,
   "id": "d146e4e6",
   "metadata": {},
   "outputs": [
    {
     "data": {
      "text/plain": [
       "(0.0,\n",
       " 1.0,\n",
       " 1,\n",
       " array([[ 71.28762542,  33.71237458],\n",
       "        [131.71237458,  62.28762542]]))"
      ]
     },
     "execution_count": 85,
     "metadata": {},
     "output_type": "execute_result"
    }
   ],
   "source": [
    "s=pd.crosstab(a.sex,a.DEATH_EVENT)\n",
    "stats.chi2_contingency(s)"
   ]
  },
  {
   "cell_type": "code",
   "execution_count": 86,
   "id": "9f0f4978",
   "metadata": {},
   "outputs": [
    {
     "data": {
      "text/plain": [
       "(0.007331473567119502,\n",
       " 0.9317652998235507,\n",
       " 1,\n",
       " array([[137.82274247,  65.17725753],\n",
       "        [ 65.17725753,  30.82274247]]))"
      ]
     },
     "execution_count": 86,
     "metadata": {},
     "output_type": "execute_result"
    }
   ],
   "source": [
    "smo=pd.crosstab(a.smoking,a.DEATH_EVENT)\n",
    "stats.chi2_contingency(smo)"
   ]
  }
 ],
 "metadata": {
  "kernelspec": {
   "display_name": "Python 3 (ipykernel)",
   "language": "python",
   "name": "python3"
  },
  "language_info": {
   "codemirror_mode": {
    "name": "ipython",
    "version": 3
   },
   "file_extension": ".py",
   "mimetype": "text/x-python",
   "name": "python",
   "nbconvert_exporter": "python",
   "pygments_lexer": "ipython3",
   "version": "3.9.7"
  }
 },
 "nbformat": 4,
 "nbformat_minor": 5
}
